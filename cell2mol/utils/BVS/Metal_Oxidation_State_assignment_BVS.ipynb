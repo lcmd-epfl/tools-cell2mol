{
 "cells": [
  {
   "cell_type": "code",
   "execution_count": 1,
   "id": "d7a0889f",
   "metadata": {},
   "outputs": [],
   "source": [
    "import numpy as np\n",
    "import pandas as pd\n",
    "from ast import literal_eval"
   ]
  },
  {
   "cell_type": "code",
   "execution_count": 2,
   "id": "f98c2807",
   "metadata": {},
   "outputs": [],
   "source": [
    "metal = \"Cr\" # Fe Mn Ru Re Cr Co Ni Cu"
   ]
  },
  {
   "cell_type": "code",
   "execution_count": 3,
   "id": "b2e81777",
   "metadata": {},
   "outputs": [],
   "source": [
    "# Metal Oxidation State (OS) determined by cell2mol or BVS (for only cases that cell reconstruction finished successfully)\n",
    "df_bvs = pd.read_csv(f\"results/BVS_result_{metal}.txt\",delimiter=\"\\t\") \n",
    "\n",
    "# Metal OS extracted from .cif file\n",
    "df_cif = pd.read_csv(f\"results/cif_charge_{metal}.txt\",delimiter=\"\\t\") "
   ]
  },
  {
   "cell_type": "code",
   "execution_count": 4,
   "id": "05edbe7f",
   "metadata": {},
   "outputs": [
    {
     "name": "stdout",
     "output_type": "stream",
     "text": [
      "1311\n",
      "1311\n"
     ]
    },
    {
     "data": {
      "text/plain": [
       "array(['Cr'], dtype=object)"
      ]
     },
     "execution_count": 4,
     "metadata": {},
     "output_type": "execute_result"
    }
   ],
   "source": [
    "# Check the metal element\n",
    "print(len(df_bvs))\n",
    "print(len(df_bvs['refcode'].unique()))\n",
    "df_bvs['metal'].unique()"
   ]
  },
  {
   "cell_type": "code",
   "execution_count": 5,
   "id": "5d71edd1",
   "metadata": {},
   "outputs": [
    {
     "name": "stdout",
     "output_type": "stream",
     "text": [
      "1465\n",
      "1465\n"
     ]
    },
    {
     "data": {
      "text/plain": [
       "array(['Cr'], dtype=object)"
      ]
     },
     "execution_count": 5,
     "metadata": {},
     "output_type": "execute_result"
    }
   ],
   "source": [
    "# Check the metal element\n",
    "print(len(df_cif))\n",
    "print(len(df_cif['refcode'].unique()))\n",
    "df_cif['metal'].unique()"
   ]
  },
  {
   "cell_type": "code",
   "execution_count": 6,
   "id": "716d0ad7",
   "metadata": {},
   "outputs": [],
   "source": [
    "df = df_bvs.merge(df_cif, on='refcode', how='left')\n",
    "df = df.drop(['metal_y', 'unique_indices'], axis=1)\n",
    "df = df.rename(columns={'metal_x': 'metal'})\n",
    "df['dictionary'] = df.dictionary.apply(lambda x: literal_eval(str(x)))\n",
    "cols = ['refcode', 'metal', 'charge_cif', 'charge_cell2mol', 'charge_BVS', 'dictionary']\n",
    "df = df[cols] \n",
    "df = df.rename(columns={'charge_cif': 'Cif', 'charge_cell2mol' :'cell2mol', 'charge_BVS' : 'BVS'})"
   ]
  },
  {
   "cell_type": "code",
   "execution_count": 7,
   "id": "cd3fd574",
   "metadata": {},
   "outputs": [],
   "source": [
    "thre_max = 0.5\n",
    "\n",
    "df['bvs_min'] = df.dictionary.apply(lambda x: sorted(x, key=x.get)[0])\n",
    "df['min'] = df.dictionary.apply(lambda x: x[sorted(x, key=x.get)[0]])\n",
    "df['bvs_second_min'] = df.dictionary.apply(lambda x: sorted(x, key=x.get)[1])\n",
    "df['second_min'] = df.dictionary.apply(lambda x: x[sorted(x, key=x.get)[1]])\n",
    "\n",
    "condition = (lambda x: \n",
    " x[sorted(x, key=x.get)[1]]- x[sorted(x, key=x.get)[0]]  # (second_min_delta - min_delta)\n",
    " if (x[sorted(x, key=x.get)[0]] <= thre_max and x[sorted(x, key=x.get)[1]] <= thre_max) \n",
    " else None)\n",
    "df['diff'] = df.dictionary.apply(condition)"
   ]
  },
  {
   "cell_type": "code",
   "execution_count": 8,
   "id": "e0521ac6",
   "metadata": {},
   "outputs": [],
   "source": [
    "# pd.set_option('display.max_colwidth', None)"
   ]
  },
  {
   "cell_type": "code",
   "execution_count": 9,
   "id": "48f7d53d",
   "metadata": {
    "scrolled": false
   },
   "outputs": [
    {
     "data": {
      "text/html": [
       "<div>\n",
       "<style scoped>\n",
       "    .dataframe tbody tr th:only-of-type {\n",
       "        vertical-align: middle;\n",
       "    }\n",
       "\n",
       "    .dataframe tbody tr th {\n",
       "        vertical-align: top;\n",
       "    }\n",
       "\n",
       "    .dataframe thead th {\n",
       "        text-align: right;\n",
       "    }\n",
       "</style>\n",
       "<table border=\"1\" class=\"dataframe\">\n",
       "  <thead>\n",
       "    <tr style=\"text-align: right;\">\n",
       "      <th></th>\n",
       "      <th>refcode</th>\n",
       "      <th>metal</th>\n",
       "      <th>Cif</th>\n",
       "      <th>cell2mol</th>\n",
       "      <th>BVS</th>\n",
       "      <th>dictionary</th>\n",
       "      <th>bvs_min</th>\n",
       "      <th>min</th>\n",
       "      <th>bvs_second_min</th>\n",
       "      <th>second_min</th>\n",
       "      <th>diff</th>\n",
       "    </tr>\n",
       "  </thead>\n",
       "  <tbody>\n",
       "    <tr>\n",
       "      <th>0</th>\n",
       "      <td>ACAYOT</td>\n",
       "      <td>Cr</td>\n",
       "      <td>1</td>\n",
       "      <td>9999</td>\n",
       "      <td>3</td>\n",
       "      <td>{2: 1.362228, 3: 0.185311, 4: 9999, 5: 9999, 6...</td>\n",
       "      <td>3</td>\n",
       "      <td>0.185311</td>\n",
       "      <td>2</td>\n",
       "      <td>1.362228</td>\n",
       "      <td>NaN</td>\n",
       "    </tr>\n",
       "    <tr>\n",
       "      <th>1</th>\n",
       "      <td>ACEGOH</td>\n",
       "      <td>Cr</td>\n",
       "      <td>3</td>\n",
       "      <td>3</td>\n",
       "      <td>2</td>\n",
       "      <td>{2: 0.021766, 3: 1.172873, 4: 9999, 5: 9999, 6...</td>\n",
       "      <td>2</td>\n",
       "      <td>0.021766</td>\n",
       "      <td>3</td>\n",
       "      <td>1.172873</td>\n",
       "      <td>NaN</td>\n",
       "    </tr>\n",
       "    <tr>\n",
       "      <th>2</th>\n",
       "      <td>ACRTUR</td>\n",
       "      <td>Cr</td>\n",
       "      <td>3</td>\n",
       "      <td>3</td>\n",
       "      <td>7777</td>\n",
       "      <td>{2: 1.286757, 3: 0.097025, 4: 0.001089, 5: 1.2...</td>\n",
       "      <td>4</td>\n",
       "      <td>0.001089</td>\n",
       "      <td>3</td>\n",
       "      <td>0.097025</td>\n",
       "      <td>0.095936</td>\n",
       "    </tr>\n",
       "    <tr>\n",
       "      <th>3</th>\n",
       "      <td>ACUDOR</td>\n",
       "      <td>Cr</td>\n",
       "      <td>0</td>\n",
       "      <td>0</td>\n",
       "      <td>9999</td>\n",
       "      <td>{2: 9999, 3: 9999, 4: 9999, 5: 9999, 6: 9999}</td>\n",
       "      <td>2</td>\n",
       "      <td>9999.000000</td>\n",
       "      <td>3</td>\n",
       "      <td>9999.000000</td>\n",
       "      <td>NaN</td>\n",
       "    </tr>\n",
       "    <tr>\n",
       "      <th>4</th>\n",
       "      <td>ACUDUX</td>\n",
       "      <td>Cr</td>\n",
       "      <td>0</td>\n",
       "      <td>0</td>\n",
       "      <td>9999</td>\n",
       "      <td>{2: 9999, 3: 9999, 4: 9999, 5: 9999, 6: 9999}</td>\n",
       "      <td>2</td>\n",
       "      <td>9999.000000</td>\n",
       "      <td>3</td>\n",
       "      <td>9999.000000</td>\n",
       "      <td>NaN</td>\n",
       "    </tr>\n",
       "    <tr>\n",
       "      <th>...</th>\n",
       "      <td>...</td>\n",
       "      <td>...</td>\n",
       "      <td>...</td>\n",
       "      <td>...</td>\n",
       "      <td>...</td>\n",
       "      <td>...</td>\n",
       "      <td>...</td>\n",
       "      <td>...</td>\n",
       "      <td>...</td>\n",
       "      <td>...</td>\n",
       "      <td>...</td>\n",
       "    </tr>\n",
       "    <tr>\n",
       "      <th>1306</th>\n",
       "      <td>ZUMMIG</td>\n",
       "      <td>Cr</td>\n",
       "      <td>0</td>\n",
       "      <td>0</td>\n",
       "      <td>9999</td>\n",
       "      <td>{2: 9999, 3: 9999, 4: 9999, 5: 9999, 6: 9999}</td>\n",
       "      <td>2</td>\n",
       "      <td>9999.000000</td>\n",
       "      <td>3</td>\n",
       "      <td>9999.000000</td>\n",
       "      <td>NaN</td>\n",
       "    </tr>\n",
       "    <tr>\n",
       "      <th>1307</th>\n",
       "      <td>ZURVIR</td>\n",
       "      <td>Cr</td>\n",
       "      <td>2</td>\n",
       "      <td>2</td>\n",
       "      <td>2</td>\n",
       "      <td>{2: 0.170744, 3: 0.943479, 4: 9999, 5: 9999, 6...</td>\n",
       "      <td>2</td>\n",
       "      <td>0.170744</td>\n",
       "      <td>3</td>\n",
       "      <td>0.943479</td>\n",
       "      <td>NaN</td>\n",
       "    </tr>\n",
       "    <tr>\n",
       "      <th>1308</th>\n",
       "      <td>ZURVUD</td>\n",
       "      <td>Cr</td>\n",
       "      <td>2</td>\n",
       "      <td>3</td>\n",
       "      <td>3</td>\n",
       "      <td>{2: 0.920124, 3: 0.201946, 4: 9999, 5: 9999, 6...</td>\n",
       "      <td>3</td>\n",
       "      <td>0.201946</td>\n",
       "      <td>2</td>\n",
       "      <td>0.920124</td>\n",
       "      <td>NaN</td>\n",
       "    </tr>\n",
       "    <tr>\n",
       "      <th>1309</th>\n",
       "      <td>ZUWJAE</td>\n",
       "      <td>Cr</td>\n",
       "      <td>3</td>\n",
       "      <td>3</td>\n",
       "      <td>8888</td>\n",
       "      <td>{2: 0.529229, 3: 0.603857, 4: 9999, 5: 9999, 6...</td>\n",
       "      <td>2</td>\n",
       "      <td>0.529229</td>\n",
       "      <td>3</td>\n",
       "      <td>0.603857</td>\n",
       "      <td>NaN</td>\n",
       "    </tr>\n",
       "    <tr>\n",
       "      <th>1310</th>\n",
       "      <td>ZUZWEW</td>\n",
       "      <td>Cr</td>\n",
       "      <td>3</td>\n",
       "      <td>3</td>\n",
       "      <td>3</td>\n",
       "      <td>{2: 9999, 3: 0.158129, 4: 9999, 5: 9999, 6: 9999}</td>\n",
       "      <td>3</td>\n",
       "      <td>0.158129</td>\n",
       "      <td>2</td>\n",
       "      <td>9999.000000</td>\n",
       "      <td>NaN</td>\n",
       "    </tr>\n",
       "  </tbody>\n",
       "</table>\n",
       "<p>1311 rows × 11 columns</p>\n",
       "</div>"
      ],
      "text/plain": [
       "     refcode metal  Cif  cell2mol   BVS  \\\n",
       "0     ACAYOT    Cr    1      9999     3   \n",
       "1     ACEGOH    Cr    3         3     2   \n",
       "2     ACRTUR    Cr    3         3  7777   \n",
       "3     ACUDOR    Cr    0         0  9999   \n",
       "4     ACUDUX    Cr    0         0  9999   \n",
       "...      ...   ...  ...       ...   ...   \n",
       "1306  ZUMMIG    Cr    0         0  9999   \n",
       "1307  ZURVIR    Cr    2         2     2   \n",
       "1308  ZURVUD    Cr    2         3     3   \n",
       "1309  ZUWJAE    Cr    3         3  8888   \n",
       "1310  ZUZWEW    Cr    3         3     3   \n",
       "\n",
       "                                             dictionary  bvs_min          min  \\\n",
       "0     {2: 1.362228, 3: 0.185311, 4: 9999, 5: 9999, 6...        3     0.185311   \n",
       "1     {2: 0.021766, 3: 1.172873, 4: 9999, 5: 9999, 6...        2     0.021766   \n",
       "2     {2: 1.286757, 3: 0.097025, 4: 0.001089, 5: 1.2...        4     0.001089   \n",
       "3         {2: 9999, 3: 9999, 4: 9999, 5: 9999, 6: 9999}        2  9999.000000   \n",
       "4         {2: 9999, 3: 9999, 4: 9999, 5: 9999, 6: 9999}        2  9999.000000   \n",
       "...                                                 ...      ...          ...   \n",
       "1306      {2: 9999, 3: 9999, 4: 9999, 5: 9999, 6: 9999}        2  9999.000000   \n",
       "1307  {2: 0.170744, 3: 0.943479, 4: 9999, 5: 9999, 6...        2     0.170744   \n",
       "1308  {2: 0.920124, 3: 0.201946, 4: 9999, 5: 9999, 6...        3     0.201946   \n",
       "1309  {2: 0.529229, 3: 0.603857, 4: 9999, 5: 9999, 6...        2     0.529229   \n",
       "1310  {2: 9999, 3: 0.158129, 4: 9999, 5: 9999, 6: 9999}        3     0.158129   \n",
       "\n",
       "      bvs_second_min   second_min      diff  \n",
       "0                  2     1.362228       NaN  \n",
       "1                  3     1.172873       NaN  \n",
       "2                  3     0.097025  0.095936  \n",
       "3                  3  9999.000000       NaN  \n",
       "4                  3  9999.000000       NaN  \n",
       "...              ...          ...       ...  \n",
       "1306               3  9999.000000       NaN  \n",
       "1307               3     0.943479       NaN  \n",
       "1308               2     0.920124       NaN  \n",
       "1309               3     0.603857       NaN  \n",
       "1310               2  9999.000000       NaN  \n",
       "\n",
       "[1311 rows x 11 columns]"
      ]
     },
     "execution_count": 9,
     "metadata": {},
     "output_type": "execute_result"
    }
   ],
   "source": [
    "df"
   ]
  },
  {
   "cell_type": "code",
   "execution_count": 10,
   "id": "8ff2e72b",
   "metadata": {},
   "outputs": [
    {
     "name": "stdout",
     "output_type": "stream",
     "text": [
      "1311\n"
     ]
    },
    {
     "data": {
      "text/plain": [
       "array(['Cr'], dtype=object)"
      ]
     },
     "execution_count": 10,
     "metadata": {},
     "output_type": "execute_result"
    }
   ],
   "source": [
    "print(len(df['refcode'].unique()))\n",
    "df['metal'].unique()"
   ]
  },
  {
   "cell_type": "markdown",
   "id": "61469a8c",
   "metadata": {},
   "source": [
    "# cell2mol "
   ]
  },
  {
   "cell_type": "code",
   "execution_count": 11,
   "id": "7e16a3e6",
   "metadata": {
    "scrolled": true
   },
   "outputs": [
    {
     "name": "stdout",
     "output_type": "stream",
     "text": [
      "Total cases : 1311\n",
      "\n",
      "cell2mol works : 1063\n",
      "cell2mol works, Same metal charge by cell2mol and cif : 994\n",
      "cell2mol works, Different metal charge by cell2mol and cif : : 69\n",
      "\n",
      "cell2mol doesn't work : 248\n"
     ]
    }
   ],
   "source": [
    "print(f\"Total cases : {len(df)}\")\n",
    "\n",
    "# cell2mol works\n",
    "print(f\"\\ncell2mol works : {len(df[df['cell2mol'] != 9999])}\")\n",
    "print(f\"cell2mol works, Same metal charge by cell2mol and cif : {len( df[(df['cell2mol'] == df['Cif']) & (df['cell2mol'] != 9999)] )}\")\n",
    "print(f\"cell2mol works, Different metal charge by cell2mol and cif : : {len( df[(df['cell2mol'] != df['Cif']) & (df['cell2mol'] != 9999) ] )}\")\n",
    "\n",
    "# cell2mol doesn't work ==> cell2mol code : 9999\n",
    "print(f\"\\ncell2mol doesn't work : {len(df[df['cell2mol'] == 9999])}\") "
   ]
  },
  {
   "cell_type": "markdown",
   "id": "980be07a",
   "metadata": {},
   "source": [
    "# BVS"
   ]
  },
  {
   "cell_type": "markdown",
   "id": "d6df59bf",
   "metadata": {},
   "source": [
    "## Missing bond valence paramenters for all oxidation states"
   ]
  },
  {
   "cell_type": "code",
   "execution_count": 12,
   "id": "018565e1",
   "metadata": {},
   "outputs": [
    {
     "name": "stdout",
     "output_type": "stream",
     "text": [
      "Total cases : 1311\n",
      "Missing bond valence paramenters for all oxidation states : 705\n",
      "\n"
     ]
    }
   ],
   "source": [
    "print(f\"Total cases : {len(df)}\")\n",
    "print(f\"Missing bond valence paramenters for all oxidation states : {len(df[(df['min'] == 9999.0)])}\\n\") # BVS code : 9999"
   ]
  },
  {
   "cell_type": "markdown",
   "id": "73a3b0fd",
   "metadata": {},
   "source": [
    "## Only one OS available by BVS method"
   ]
  },
  {
   "cell_type": "code",
   "execution_count": 13,
   "id": "1c92c1d8",
   "metadata": {},
   "outputs": [
    {
     "name": "stdout",
     "output_type": "stream",
     "text": [
      "Only one OS available by BVS : 73\n",
      "Only one OS available by BVS, delta >  0.5 : 21\n",
      "Only one OS available by BVS, delta <=  0.5 : 52\n"
     ]
    }
   ],
   "source": [
    "print(f\"Only one OS available by BVS : {len( df[(df['min'] !=9999.0) & (df['second_min'] == 9999.0)] )}\")\n",
    "print(f\"Only one OS available by BVS, delta >  0.5 : {len( df[(df['min'] > 0.5) & (df['min'] != 9999.0) & (df['second_min'] == 9999.0)])}\") # BVS code : 8888\n",
    "print(f\"Only one OS available by BVS, delta <=  0.5 : {len( df[(df['min'] <= 0.5) & (df['min'] != 9999.0) & (df['second_min'] == 9999.0)])}\")"
   ]
  },
  {
   "cell_type": "markdown",
   "id": "31d7a071",
   "metadata": {},
   "source": [
    "## More than one OS available by BVS method"
   ]
  },
  {
   "cell_type": "code",
   "execution_count": 14,
   "id": "9cc06581",
   "metadata": {},
   "outputs": [
    {
     "name": "stdout",
     "output_type": "stream",
     "text": [
      "More than one OS available by BVS : 533\n",
      "OS with smallest Δ > 0.5, Another OS with 2nd smallest Δ > 0.5 : 67\n",
      "OS with smallest Δ ≤ 0.5, Another OS with 2nd smallest Δ > 0.5 : 427\n",
      "OS with smallest Δ ≤ 0.5, Another OS with 2nd smallest Δ ≤ 0.5 : 39\n"
     ]
    }
   ],
   "source": [
    "print(f\"More than one OS available by BVS : {len(df[(df['min'] !=9999.0) & (df['second_min'] != 9999.0)])}\")\n",
    "print(f\"OS with smallest Δ > 0.5, Another OS with 2nd smallest Δ > 0.5 : {len( df[(df['min'] > 0.5) & (df['min'] !=9999.0) & (df['second_min'] != 9999.0)] )}\") # BVS code : 8888\n",
    "print(f\"OS with smallest Δ ≤ 0.5, Another OS with 2nd smallest Δ > 0.5 : {len( df[(df['min'] <= 0.5) & (df['second_min'] > 0.5) & (df['min'] !=9999.0) & (df['second_min'] != 9999.0)] )}\")\n",
    "print(f\"OS with smallest Δ ≤ 0.5, Another OS with 2nd smallest Δ ≤ 0.5 : {len( df[(df['min'] <= 0.5) & (df['second_min'] <= 0.5) & (df['min'] !=9999.0) & (df['second_min'] != 9999.0) ] )}\") # BVS code : 7777"
   ]
  },
  {
   "cell_type": "markdown",
   "id": "1aad30a2",
   "metadata": {},
   "source": [
    "## BVS vs Cif"
   ]
  },
  {
   "cell_type": "code",
   "execution_count": 15,
   "id": "c1faafc9",
   "metadata": {},
   "outputs": [
    {
     "name": "stdout",
     "output_type": "stream",
     "text": [
      "Same metal charge by BVS and cif : 492\n",
      "Different metal charge by BVS and cif : 114\n"
     ]
    }
   ],
   "source": [
    "print(f\"Same metal charge by BVS and cif : { len ( df[(df['Cif'] == df['bvs_min']) & (df['min'] != 9999.0)] ) }\")\n",
    "print(f\"Different metal charge by BVS and cif : { len ( df[(df['Cif'] != df['bvs_min']) & (df['min'] != 9999.0)] ) }\")"
   ]
  },
  {
   "cell_type": "code",
   "execution_count": 16,
   "id": "908e37c6",
   "metadata": {},
   "outputs": [
    {
     "name": "stdout",
     "output_type": "stream",
     "text": [
      "Only one OS, BVS = cif : 53\n",
      "Only one OS, BVS != cif : 20\n",
      "Only one OS, delta >  0.5, BVS = cif : 1\n",
      "Only one OS, delta >  0.5, BVS != cif : 20\n",
      "Only one OS, delta <= 0.5, BVS = cif : 52\n",
      "Only one OS, delta <= 0.5, BVS != cif : 0\n"
     ]
    }
   ],
   "source": [
    "print(f\"Only one OS, BVS = cif : { len ( df[(df['min'] !=9999.0) & (df['second_min'] == 9999.0)& (df['Cif'] == df['bvs_min'])] ) }\")\n",
    "print(f\"Only one OS, BVS != cif : { len ( df[(df['min'] !=9999.0) & (df['second_min'] == 9999.0)& (df['Cif'] != df['bvs_min'])] ) }\")\n",
    "\n",
    "print(f\"Only one OS, delta >  0.5, BVS = cif : { len ( df[(df['min'] > 0.5) & (df['min'] != 9999.0) & (df['second_min'] == 9999.0) & (df['Cif'] == df['bvs_min'])] ) }\")\n",
    "print(f\"Only one OS, delta >  0.5, BVS != cif : { len ( df[(df['min'] > 0.5) & (df['min'] != 9999.0) & (df['second_min'] == 9999.0) & (df['Cif'] != df['bvs_min'])] ) }\")\n",
    "\n",
    "print(f\"Only one OS, delta <= 0.5, BVS = cif : { len ( df[(df['min'] <= 0.5) & (df['min'] != 9999.0) & (df['second_min'] == 9999.0) & (df['Cif'] == df['bvs_min'])] ) }\")\n",
    "print(f\"Only one OS, delta <= 0.5, BVS != cif : { len ( df[(df['min'] <= 0.5) & (df['min'] != 9999.0) & (df['second_min'] == 9999.0) & (df['Cif'] != df['bvs_min'])] ) }\")"
   ]
  },
  {
   "cell_type": "code",
   "execution_count": 17,
   "id": "acf3dac3",
   "metadata": {},
   "outputs": [
    {
     "name": "stdout",
     "output_type": "stream",
     "text": [
      "More than one OS, BVS = cif : 439\n",
      "More than one OS, BVS != cif : 94\n",
      "\n",
      "OS with smallest Δ > 0.5, Another OS with 2nd smallest Δ > 0.5, BVS = cif : 5\n",
      "OS with smallest Δ > 0.5, Another OS with 2nd smallest Δ > 0.5, BVS != cif : 62\n",
      "Another OS by BVS = cif : 3\n",
      "Another OS by BVS != cif : 59\n",
      "\n",
      "OS with smallest Δ ≤ 0.5, Another OS with 2nd smallest Δ > 0.5 , BVS = cif : 408\n",
      "OS with smallest Δ ≤ 0.5, Another OS with 2nd smallest Δ > 0.5 , BVS != cif : 19\n",
      "Another OS by BVS = cif : 13\n",
      "Another OS by BVS != cif : 6\n",
      "\n",
      "OS with smallest Δ ≤ 0.5, Another OS with 2nd smallest Δ ≤ 0.5, BVS = cif : 26\n",
      "OS with smallest Δ ≤ 0.5, Another OS with 2nd smallest Δ ≤ 0.5, BVS != cif : 13\n",
      "Another OS by BVS = cif : 12\n",
      "Another OS by BVS != cif : 1\n"
     ]
    }
   ],
   "source": [
    "print(f\"More than one OS, BVS = cif : { len( df[(df['min'] !=9999.0) & (df['second_min'] != 9999.0) & (df['Cif'] == df['bvs_min']) ] ) }\")\n",
    "print(f\"More than one OS, BVS != cif : { len( df[(df['min'] !=9999.0) & (df['second_min'] != 9999.0) & (df['Cif'] != df['bvs_min']) ] ) }\")\n",
    "print(\"\")\n",
    "print(f\"OS with smallest Δ > 0.5, Another OS with 2nd smallest Δ > 0.5, BVS = cif : { len( df[(df['min'] > 0.5) & (df['min'] !=9999.0) & (df['second_min'] != 9999.0) & (df['Cif'] == df['bvs_min'])]) }\")\n",
    "print(f\"OS with smallest Δ > 0.5, Another OS with 2nd smallest Δ > 0.5, BVS != cif : { len( df[(df['min'] > 0.5) & (df['min'] !=9999.0) & (df['second_min'] != 9999.0) & (df['Cif'] != df['bvs_min'])]) }\")\n",
    "print(f\"Another OS by BVS = cif : { len( df[(df['min'] > 0.5) & (df['min'] !=9999.0) & (df['second_min'] != 9999.0) & (df['Cif'] != df['bvs_min']) & (df['Cif'] == df['bvs_second_min']) ]) }\")\n",
    "print(f\"Another OS by BVS != cif : { len( df[(df['min'] > 0.5) & (df['min'] !=9999.0) & (df['second_min'] != 9999.0) & (df['Cif'] != df['bvs_min']) & (df['Cif'] != df['bvs_second_min']) ]) }\")\n",
    "\n",
    "print(\"\")\n",
    "print(f\"OS with smallest Δ ≤ 0.5, Another OS with 2nd smallest Δ > 0.5 , BVS = cif : { len(df[(df['min'] <= 0.5) & (df['second_min'] > 0.5) & (df['min'] !=9999.0) & (df['second_min'] != 9999.0) & (df['Cif'] == df['bvs_min'])]) }\")\n",
    "print(f\"OS with smallest Δ ≤ 0.5, Another OS with 2nd smallest Δ > 0.5 , BVS != cif : { len(df[(df['min'] <= 0.5) & (df['second_min'] > 0.5) & (df['min'] !=9999.0) & (df['second_min'] != 9999.0) & (df['Cif'] != df['bvs_min'])]) }\")\n",
    "print(f\"Another OS by BVS = cif : { len( df[(df['min'] <= 0.5) & (df['second_min'] > 0.5) & (df['min'] !=9999.0) & (df['second_min'] != 9999.0) & (df['Cif'] != df['bvs_min']) & (df['Cif'] == df['bvs_second_min']) ]) }\")\n",
    "print(f\"Another OS by BVS != cif : { len( df[(df['min'] <= 0.5) & (df['second_min'] > 0.5) & (df['min'] !=9999.0) & (df['second_min'] != 9999.0) & (df['Cif'] != df['bvs_min']) & (df['Cif'] != df['bvs_second_min']) ]) }\")\n",
    "\n",
    "\n",
    "print(\"\")\n",
    "print(f\"OS with smallest Δ ≤ 0.5, Another OS with 2nd smallest Δ ≤ 0.5, BVS = cif : { len(df[(df['min'] <= 0.5) & (df['second_min'] <= 0.5) & (df['min'] !=9999.0) & (df['second_min'] != 9999.0) & (df['Cif'] == df['bvs_min'])]) }\")\n",
    "print(f\"OS with smallest Δ ≤ 0.5, Another OS with 2nd smallest Δ ≤ 0.5, BVS != cif : { len(df[(df['min'] <= 0.5) & (df['second_min'] <= 0.5) & (df['min'] !=9999.0) & (df['second_min'] != 9999.0) & (df['Cif'] != df['bvs_min'])]) }\")\n",
    "print(f\"Another OS by BVS = cif : { len( df[(df['min'] <= 0.5) & (df['second_min'] <=  0.5) & (df['min'] !=9999.0) & (df['second_min'] != 9999.0) & (df['Cif'] != df['bvs_min']) & (df['Cif'] == df['bvs_second_min']) ]) }\")\n",
    "print(f\"Another OS by BVS != cif : { len( df[(df['min'] <= 0.5) & (df['second_min'] <=  0.5) & (df['min'] !=9999.0) & (df['second_min'] != 9999.0) & (df['Cif'] != df['bvs_min']) & (df['Cif'] != df['bvs_second_min']) ]) }\")"
   ]
  }
 ],
 "metadata": {
  "kernelspec": {
   "display_name": "environment",
   "language": "python",
   "name": "environment"
  },
  "language_info": {
   "codemirror_mode": {
    "name": "ipython",
    "version": 3
   },
   "file_extension": ".py",
   "mimetype": "text/x-python",
   "name": "python",
   "nbconvert_exporter": "python",
   "pygments_lexer": "ipython3",
   "version": "3.9.9"
  }
 },
 "nbformat": 4,
 "nbformat_minor": 5
}
